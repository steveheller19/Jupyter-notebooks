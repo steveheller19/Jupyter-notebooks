{
 "cells": [
  {
   "cell_type": "code",
   "execution_count": 12,
   "metadata": {},
   "outputs": [
    {
     "name": "stdout",
     "output_type": "stream",
     "text": [
      "Please enter your name: ss\n",
      "Please enter your age:  68\n",
      "Hi ss!\n",
      "You will be 100 in 32 years (2050).\n",
      "You will be 100 in 32 years (2050).\n",
      "You will be 100 in 32 years (2050).\n",
      "You will be 100 in 32 years (2050).\n",
      "\n"
     ]
    }
   ],
   "source": [
    "def age_analysis ():\n",
    "    name = input(\"Please enter your name: \")\n",
    "    age  = int(input(\"Please enter your age:  \"))\n",
    "    print(\"Hi \" + name +\"!\")\n",
    "    message = \"You will be 100 in \" + str(100-age) + \" years (\" + str(2019-age+100-1) + \").\\n\"\n",
    "    print(4*message)\n",
    "\n",
    "age_analysis()"
   ]
  },
  {
   "cell_type": "code",
   "execution_count": 17,
   "metadata": {},
   "outputs": [
    {
     "name": "stdout",
     "output_type": "stream",
     "text": [
      "Please enter a number: 5\n",
      "odd\n",
      "Please enter a number: 12\n",
      "divisible by 4\n"
     ]
    }
   ],
   "source": [
    "def odd_or_even ():\n",
    "    n = int(input(\"Please enter a number: \"))\n",
    "    if 0 == n%2:\n",
    "        print(\"even\")\n",
    "    else:\n",
    "        print(\"odd\")\n",
    "\n",
    "odd_or_even()\n",
    "\n",
    "def analysis4 ():\n",
    "    n = int(input(\"Please enter a number: \"))\n",
    "    if 0 == n%4:\n",
    "        print(\"divisible by 4\")\n",
    "    elif 0 == n%2:\n",
    "        print(\"even\")\n",
    "    else:\n",
    "        print(\"odd\")\n",
    "\n",
    "analysis4()"
   ]
  },
  {
   "cell_type": "code",
   "execution_count": null,
   "metadata": {},
   "outputs": [],
   "source": []
  },
  {
   "cell_type": "code",
   "execution_count": null,
   "metadata": {},
   "outputs": [],
   "source": []
  }
 ],
 "metadata": {
  "kernelspec": {
   "display_name": "Python 3",
   "language": "python",
   "name": "python3"
  },
  "language_info": {
   "codemirror_mode": {
    "name": "ipython",
    "version": 3
   },
   "file_extension": ".py",
   "mimetype": "text/x-python",
   "name": "python",
   "nbconvert_exporter": "python",
   "pygments_lexer": "ipython3",
   "version": "3.7.3"
  }
 },
 "nbformat": 4,
 "nbformat_minor": 2
}
