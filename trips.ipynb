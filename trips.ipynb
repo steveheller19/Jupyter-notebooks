{
 "cells": [
  {
   "cell_type": "markdown",
   "metadata": {},
   "source": [
    "# From the Fortress doc: Comprehending List Comprehensions\n",
    "\n",
    "A Pythagorean triple is three integers $a$, $b$, and $c$ representing the sides of a right triangle with hypotenuse $c$. This means that $a^2 + b^2 = c^2$, which we'll refer to as the Pythagorean equality. We will require that all three sides are less than some specified maximum value $m$, and for uniqueness we'll also require that $a < b < c \\leq m$. Also, triples should be primitive — not a multiple of another triple. Much more information on Pythagorean Triples can be found in [this Wikipedia article](https://en.wikipedia.org/wiki/Pythagorean_triple)."
   ]
  },
  {
   "cell_type": "code",
   "execution_count": 262,
   "metadata": {},
   "outputs": [
    {
     "ename": "SyntaxError",
     "evalue": "invalid syntax (<ipython-input-262-387ed4590fb5>, line 14)",
     "output_type": "error",
     "traceback": [
      "\u001b[0;36m  File \u001b[0;32m\"<ipython-input-262-387ed4590fb5>\"\u001b[0;36m, line \u001b[0;32m14\u001b[0m\n\u001b[0;31m    assert self.c**2 == self.a**2 + self.b**2,\u001b[0m\n\u001b[0m                                              ^\u001b[0m\n\u001b[0;31mSyntaxError\u001b[0m\u001b[0;31m:\u001b[0m invalid syntax\n"
     ]
    }
   ],
   "source": [
    "# Define two helper functions, coprime and even, and a trip object.\n",
    "import math\n",
    "import functools\n",
    "\n",
    "def even(x): return 0 == x%2\n",
    "print([even(i) for i in range(-3,5)])\n",
    "\n",
    "def coprime (x,y): return 1 == math.gcd (x,y)\n",
    "print ([coprime(3,i) for i in range(-1,10)])\n",
    "\n",
    "class Trip():\n",
    "    def __init__(self,a,b,c):\n",
    "        self.a, self.b, self.c = a, b, c\n",
    "        assert self.c**2 == self.a**2 + self.b**2, f\"Bad Trip: <{self.a} {self.b} {self.c}>\"\n",
    "    \n",
    "    def __eq__(self,t): return self.a == t.a and self.b == t.b and self.c == t.c\n",
    "    \n",
    "    def __repr__(self): return f\"Trip: <{self.a} {self.b} {self.c}>\"\n",
    "\n",
    "print(Trip(3,4,5))\n",
    "Trip(3,4,6)"
   ]
  },
  {
   "cell_type": "code",
   "execution_count": 263,
   "metadata": {},
   "outputs": [
    {
     "name": "stdout",
     "output_type": "stream",
     "text": [
      "[Trip: <3 4 5>, Trip: <5 12 13>, Trip: <7 24 25>, Trip: <8 15 17>, Trip: <9 40 41>, Trip: <11 60 61>, Trip: <12 35 37>, Trip: <13 84 85>, Trip: <16 63 65>, Trip: <20 21 29>, Trip: <28 45 53>, Trip: <33 56 65>, Trip: <36 77 85>, Trip: <39 80 89>, Trip: <48 55 73>, Trip: <65 72 97>]\n"
     ]
    }
   ],
   "source": [
    "# We are looking to generate lists like this one, from Wikipedia:\n",
    "Wikipedia100 = [Trip( 3, 4, 5), Trip( 5,12,13), Trip( 7,24,25), Trip( 8,15,17),\n",
    "                Trip( 9,40,41), Trip(11,60,61), Trip(12,35,37), Trip(13,84,85),\n",
    "                Trip(16,63,65), Trip(20,21,29), Trip(28,45,53), Trip(33,56,65),\n",
    "                Trip(36,77,85), Trip(39,80,89), Trip(48,55,73), Trip(65,72,97)\n",
    "                ]\n",
    "\n",
    "print(Wikipedia100)"
   ]
  },
  {
   "cell_type": "code",
   "execution_count": 284,
   "metadata": {},
   "outputs": [
    {
     "name": "stdout",
     "output_type": "stream",
     "text": [
      "Good Trips\n"
     ]
    }
   ],
   "source": [
    "#set the max leg size\n",
    "m = 100\n",
    "\n",
    "def check_trips (trips):\n",
    "    \"\"\"Utility to check we match the Wikipedia list of triples\"\"\"\n",
    "    assert(all ([w == t for w,t in zip (Wikipedia100, trips)])), \"Trips don't match: \" + print (trips)\n",
    "    print(\"Good Trips\")\n",
    "\n",
    "#Start with a direct enumerate-and-filter specification, parametrized by m, the maximum side length.\n",
    "check_trips([Trip(a,b,int(c))\n",
    "             for a in range(1,m+1)\n",
    "             for b in range(1,m+1)\n",
    "             for c in range(1,m+1)\n",
    "             if a < b < c\n",
    "             and a**2 + b**2 == c**2\n",
    "             and coprime(a,b)\n",
    "            ])"
   ]
  },
  {
   "cell_type": "markdown",
   "metadata": {},
   "source": [
    "The expression: `for a in range(1,m+1) for b in range(1,m+1) for c in range(1,m+1)` is like a triply nested loop. In this case, the order of the generators is irrelevant (and the compiler might leverage this), but generally the order matters as we'll see. We also specified three filters: an ordering of `a`, `b`, and `c`, the Pythagorean equality, and `coprime (a,b)`, which ensures that the triple is primitive."
   ]
  },
  {
   "cell_type": "code",
   "execution_count": 285,
   "metadata": {},
   "outputs": [
    {
     "name": "stdout",
     "output_type": "stream",
     "text": [
      "Good Trips\n"
     ]
    }
   ],
   "source": [
    "#Fold the ordering filter into the lower and upper bounds of the generators.\n",
    "check_trips([Trip(a,b,int(c))\n",
    "             for a in range(1,m-1)\n",
    "             for b in range(a+1,m)\n",
    "             for c in range(b+1,m+1)\n",
    "             if a**2 + b**2 == c**2\n",
    "             and coprime(a,b)\n",
    "            ])"
   ]
  },
  {
   "cell_type": "markdown",
   "metadata": {},
   "source": [
    "This sort of transformation is known as filter promotion. Rather than generate and then filter, we can avoid generating some values in the first place. We can imagine that that a compiler, a run time system, or a clever library, could accomplish simple filter promotion. Now `c` generation must come after `b` generation which in turn must come after `a` generation as `a` is used in the bounds of `b` generation which in turn is used in the bounds of `c` generation --- the generators can no longer be freely interchanged --- `c` generation is \"more inner\" than `b` generation which in turn is \"more inner\" than `a` generation.\n",
    "\n",
    "Shouldn't this sort of transformation be the programmer's responsibility? Perhaps, but sometimes in mathematics we specify sets this way, and it can be very concise and easy to understand.\n",
    "\n",
    "What about the next filter, the Pythagorean equality? Once `a` and `b` are selected, this filter tells us there is at most one one possible value to consider for `c`; we have a candidate if `c` is an integer. First rewrite the filter `c = SQRT(a**2 + b**2)`. If that produces an integer we have a candidate; otherwise, we're not interested.\n",
    "\n",
    "There's also a bit of housekeeping, as `c` must satisfy the generator bounds, ie, `b+1 <= c <= m`. The lower bound comes for free, but we have to check the upper bound explicitly with a filter: `c <= m`.\n",
    "\n"
   ]
  },
  {
   "cell_type": "code",
   "execution_count": 287,
   "metadata": {},
   "outputs": [
    {
     "name": "stdout",
     "output_type": "stream",
     "text": [
      "Good Trips\n"
     ]
    }
   ],
   "source": [
    "#Fold the Pythagorean equality filter into c generation, adding an upper bound check on c\n",
    "check_trips([Trip(a,b,int(c))\n",
    "             for a in range(1,m-1)\n",
    "             for b in range(a+1,m)\n",
    "             for c in [math.sqrt(a**2 + b**2)] if c == int(c) and c <= m\n",
    "             and coprime(a,b)\n",
    "            ])"
   ]
  },
  {
   "cell_type": "markdown",
   "metadata": {},
   "source": [
    "Can we promote the filter `c <= m`? It can be absorbed into b generation. Since `c**2 = a**2 + b**2` and `c <= m`, `a**2 + b**2 <= m**2`, giving us `b <= SQRT(m**2 - a**2)`. This only produces values at most `m-1`.\n",
    "\n"
   ]
  },
  {
   "cell_type": "code",
   "execution_count": 288,
   "metadata": {},
   "outputs": [
    {
     "name": "stdout",
     "output_type": "stream",
     "text": [
      "Good Trips\n"
     ]
    }
   ],
   "source": [
    "#promote c <= m into b generation\n",
    "check_trips([Trip(a,b,int(c))\n",
    "             for a in range(1,m-1)\n",
    "             for b in range(a+1,int(math.sqrt(m**2 - a**2)))\n",
    "             for c in [math.sqrt(a**2 + b**2)] if c == int(c)\n",
    "             and coprime(a,b)\n",
    "            ])"
   ]
  },
  {
   "cell_type": "markdown",
   "metadata": {},
   "source": [
    "It would be pretty impressive if a library or compiler could automatically do the filter promotion we've done by hand:\n",
    "1. Fold `a < b < c` into `b` and `c` generation. This is the easiest one.\n",
    "1. Calculate `c` rather than generate and filter. This involves quadratic algebraic manipulation.\n",
    "1. Fold `c < m` into `b` generation (upper bound): again, algebraic manipulation.\n",
    "\n",
    "It's tricky, but all of the preceding and the following could conceivably be produced automatically by a clever enough system, perhaps an MS project, or an undergrad capstone project for a very clever undergrad. Just for fun, let's pull common divisibility by `2` out of the `coprime` filter."
   ]
  },
  {
   "cell_type": "code",
   "execution_count": 289,
   "metadata": {},
   "outputs": [
    {
     "name": "stdout",
     "output_type": "stream",
     "text": [
      "Good Trips\n"
     ]
    }
   ],
   "source": [
    "#pull common divisibility by 2 out of the coprime filter\n",
    "check_trips([Trip(a,b,int(c))\n",
    "             for a in range(1,m-1)\n",
    "             for b in range(a+1,int(math.sqrt(m**2 - a**2)))\n",
    "             for c in [math.sqrt(a**2 + b**2)] if c == int(c)\n",
    "             and not (even(a) and even(b))\n",
    "             and coprime(a,b)\n",
    "            ])"
   ]
  },
  {
   "cell_type": "markdown",
   "metadata": {},
   "source": [
    "Is there more fun to be had? It turns out that exactly one of `a` and `b` are even, but proving that is reasonably tricky."
   ]
  },
  {
   "cell_type": "code",
   "execution_count": 293,
   "metadata": {},
   "outputs": [
    {
     "name": "stdout",
     "output_type": "stream",
     "text": [
      "Good Trips\n"
     ]
    }
   ],
   "source": [
    "#strengthen divisibility by 2 to even(a) ^ even(b)\n",
    "check_trips([Trip(a,b,int(c))\n",
    "             for a in range(1,m-1)\n",
    "             for b in range(a+1,int(math.sqrt(m**2 - a**2)))\n",
    "             for c in [math.sqrt(a**2 + b**2)] if c == int(c)\n",
    "             and even(a) ^ even(b)\n",
    "             and coprime(a,b)\n",
    "            ])"
   ]
  },
  {
   "cell_type": "code",
   "execution_count": 291,
   "metadata": {},
   "outputs": [
    {
     "name": "stdout",
     "output_type": "stream",
     "text": [
      "Good Trips\n"
     ]
    }
   ],
   "source": [
    "#fold divisibility by 2 into b generation using striding.\n",
    "check_trips([Trip(a,b,int(c))\n",
    "             for a in range(1,m-1)\n",
    "             for b in range(a+1,int(math.sqrt(m**2 - a**2)),2)\n",
    "             for c in [math.sqrt(a**2 + b**2)] if c == int(c)\n",
    "             and coprime(a,b)\n",
    "            ])"
   ]
  },
  {
   "cell_type": "code",
   "execution_count": 286,
   "metadata": {},
   "outputs": [
    {
     "name": "stdout",
     "output_type": "stream",
     "text": [
      "Good Trips\n"
     ]
    }
   ],
   "source": [
    "#the smallest leg in a triple is 3.\n",
    "check_trips([Trip(a,b,int(c))\n",
    "             for a in range(3,m-1)\n",
    "             for b in range(a+1,int(math.sqrt(m**2 - a**2)),2)\n",
    "             for c in [math.sqrt(a**2 + b**2)] if c == int(c)\n",
    "             and coprime(a,b)\n",
    "            ])"
   ]
  },
  {
   "cell_type": "markdown",
   "metadata": {},
   "source": [
    "Performing these last two transformations automatically would also be impressive research.\n",
    "1. Expose common divisibility by `2` and promote into `b` striding\n",
    "1. Start `a` with `3`. Good luck with this one. :-)"
   ]
  },
  {
   "cell_type": "code",
   "execution_count": null,
   "metadata": {},
   "outputs": [],
   "source": []
  }
 ],
 "metadata": {
  "kernelspec": {
   "display_name": "Python 3",
   "language": "python",
   "name": "python3"
  },
  "language_info": {
   "codemirror_mode": {
    "name": "ipython",
    "version": 3
   },
   "file_extension": ".py",
   "mimetype": "text/x-python",
   "name": "python",
   "nbconvert_exporter": "python",
   "pygments_lexer": "ipython3",
   "version": "3.7.3"
  }
 },
 "nbformat": 4,
 "nbformat_minor": 2
}
