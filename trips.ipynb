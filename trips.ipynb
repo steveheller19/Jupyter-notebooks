{
 "cells": [
  {
   "cell_type": "code",
   "execution_count": 253,
   "metadata": {},
   "outputs": [
    {
     "name": "stdout",
     "output_type": "stream",
     "text": [
      "[False, True, False, True, False, True, False, True]\n",
      "[True, False, True, True, False, True, True, False, True, True, False]\n",
      "Trip: <3 4 5>\n"
     ]
    },
    {
     "ename": "AssertionError",
     "evalue": "Bad Trip: <3 4 6>",
     "output_type": "error",
     "traceback": [
      "\u001b[0;31m---------------------------------------------------------------------------\u001b[0m",
      "\u001b[0;31mAssertionError\u001b[0m                            Traceback (most recent call last)",
      "\u001b[0;32m<ipython-input-253-8f5bb2f0a3b3>\u001b[0m in \u001b[0;36m<module>\u001b[0;34m\u001b[0m\n\u001b[1;32m     28\u001b[0m \u001b[0;34m\u001b[0m\u001b[0m\n\u001b[1;32m     29\u001b[0m \u001b[0mprint\u001b[0m\u001b[0;34m(\u001b[0m\u001b[0mTrip\u001b[0m\u001b[0;34m(\u001b[0m\u001b[0;36m3\u001b[0m\u001b[0;34m,\u001b[0m\u001b[0;36m4\u001b[0m\u001b[0;34m,\u001b[0m\u001b[0;36m5\u001b[0m\u001b[0;34m)\u001b[0m\u001b[0;34m)\u001b[0m\u001b[0;34m\u001b[0m\u001b[0;34m\u001b[0m\u001b[0m\n\u001b[0;32m---> 30\u001b[0;31m \u001b[0mTrip\u001b[0m\u001b[0;34m(\u001b[0m\u001b[0;36m3\u001b[0m\u001b[0;34m,\u001b[0m\u001b[0;36m4\u001b[0m\u001b[0;34m,\u001b[0m\u001b[0;36m6\u001b[0m\u001b[0;34m)\u001b[0m\u001b[0;34m\u001b[0m\u001b[0;34m\u001b[0m\u001b[0m\n\u001b[0m",
      "\u001b[0;32m<ipython-input-253-8f5bb2f0a3b3>\u001b[0m in \u001b[0;36m__init__\u001b[0;34m(self, a, b, c)\u001b[0m\n\u001b[1;32m     21\u001b[0m     \u001b[0;32mdef\u001b[0m \u001b[0m__init__\u001b[0m\u001b[0;34m(\u001b[0m\u001b[0mself\u001b[0m\u001b[0;34m,\u001b[0m\u001b[0ma\u001b[0m\u001b[0;34m,\u001b[0m\u001b[0mb\u001b[0m\u001b[0;34m,\u001b[0m\u001b[0mc\u001b[0m\u001b[0;34m)\u001b[0m\u001b[0;34m:\u001b[0m\u001b[0;34m\u001b[0m\u001b[0;34m\u001b[0m\u001b[0m\n\u001b[1;32m     22\u001b[0m         \u001b[0mself\u001b[0m\u001b[0;34m.\u001b[0m\u001b[0ma\u001b[0m\u001b[0;34m,\u001b[0m \u001b[0mself\u001b[0m\u001b[0;34m.\u001b[0m\u001b[0mb\u001b[0m\u001b[0;34m,\u001b[0m \u001b[0mself\u001b[0m\u001b[0;34m.\u001b[0m\u001b[0mc\u001b[0m \u001b[0;34m=\u001b[0m \u001b[0ma\u001b[0m\u001b[0;34m,\u001b[0m \u001b[0mb\u001b[0m\u001b[0;34m,\u001b[0m \u001b[0mc\u001b[0m\u001b[0;34m\u001b[0m\u001b[0;34m\u001b[0m\u001b[0m\n\u001b[0;32m---> 23\u001b[0;31m         \u001b[0;32massert\u001b[0m \u001b[0mself\u001b[0m\u001b[0;34m.\u001b[0m\u001b[0mc\u001b[0m\u001b[0;34m**\u001b[0m\u001b[0;36m2\u001b[0m \u001b[0;34m==\u001b[0m \u001b[0mself\u001b[0m\u001b[0;34m.\u001b[0m\u001b[0ma\u001b[0m\u001b[0;34m**\u001b[0m\u001b[0;36m2\u001b[0m \u001b[0;34m+\u001b[0m \u001b[0mself\u001b[0m\u001b[0;34m.\u001b[0m\u001b[0mb\u001b[0m\u001b[0;34m**\u001b[0m\u001b[0;36m2\u001b[0m\u001b[0;34m,\u001b[0m \u001b[0;34mf\"Bad Trip: <{self.a} {self.b} {self.c}>\"\u001b[0m\u001b[0;34m\u001b[0m\u001b[0;34m\u001b[0m\u001b[0m\n\u001b[0m\u001b[1;32m     24\u001b[0m \u001b[0;34m\u001b[0m\u001b[0m\n\u001b[1;32m     25\u001b[0m     \u001b[0;32mdef\u001b[0m \u001b[0m__eq__\u001b[0m\u001b[0;34m(\u001b[0m\u001b[0mself\u001b[0m\u001b[0;34m,\u001b[0m\u001b[0mt\u001b[0m\u001b[0;34m)\u001b[0m\u001b[0;34m:\u001b[0m \u001b[0;32mreturn\u001b[0m \u001b[0mself\u001b[0m\u001b[0;34m.\u001b[0m\u001b[0ma\u001b[0m \u001b[0;34m==\u001b[0m \u001b[0mt\u001b[0m\u001b[0;34m.\u001b[0m\u001b[0ma\u001b[0m \u001b[0;32mand\u001b[0m \u001b[0mself\u001b[0m\u001b[0;34m.\u001b[0m\u001b[0mb\u001b[0m \u001b[0;34m==\u001b[0m \u001b[0mt\u001b[0m\u001b[0;34m.\u001b[0m\u001b[0mb\u001b[0m \u001b[0;32mand\u001b[0m \u001b[0mself\u001b[0m\u001b[0;34m.\u001b[0m\u001b[0mc\u001b[0m \u001b[0;34m==\u001b[0m \u001b[0mt\u001b[0m\u001b[0;34m.\u001b[0m\u001b[0mc\u001b[0m\u001b[0;34m\u001b[0m\u001b[0;34m\u001b[0m\u001b[0m\n",
      "\u001b[0;31mAssertionError\u001b[0m: Bad Trip: <3 4 6>"
     ]
    }
   ],
   "source": [
    "# From the Fortress doc: Comprehending List Comprehensions\n",
    "\n",
    "# A Pythagorean triple is three integers a, b, and c representing the sides of a right triangle with hypotenuse c.\n",
    "# This means that a**2 + b**2 = c**2, which we'll refer to as the Pythagorean equality.\n",
    "# We will require that all three sides are less than some specified maximum value m, and for uniqueness\n",
    "# we'll also require that a < b < c < m. Also, triples should be primitive — not a multiple of another triple.\n",
    "# Much more information on Pythagorean Triples can be found in this Wikipedia article:\n",
    "# https://en.wikipedia.org/wiki/Pythagorean_triple\n",
    "\n",
    "# Define two helper functions, coprime and even, and a trip object.\n",
    "import math\n",
    "import functools\n",
    "\n",
    "def even(x): return 0 == x%2\n",
    "print([even(i) for i in range(-3,5)])\n",
    "\n",
    "def coprime (x,y): return 1 == math.gcd (x,y)\n",
    "print ([coprime(3,i) for i in range(-1,10)])\n",
    "\n",
    "class Trip():\n",
    "    def __init__(self,a,b,c):\n",
    "        self.a, self.b, self.c = a, b, c\n",
    "        assert self.c**2 == self.a**2 + self.b**2, f\"Bad Trip: <{self.a} {self.b} {self.c}>\"\n",
    "    \n",
    "    def __eq__(self,t): return self.a == t.a and self.b == t.b and self.c == t.c\n",
    "    \n",
    "    def __repr__(self): return f\"Trip: <{self.a} {self.b} {self.c}>\"\n",
    "\n",
    "print(Trip(3,4,5))\n",
    "Trip(3,4,6)"
   ]
  },
  {
   "cell_type": "code",
   "execution_count": 254,
   "metadata": {},
   "outputs": [
    {
     "name": "stdout",
     "output_type": "stream",
     "text": [
      "[Trip: <3 4 5>, Trip: <5 12 13>, Trip: <7 24 25>, Trip: <8 15 17>, Trip: <9 40 41>, Trip: <11 60 61>, Trip: <12 35 37>, Trip: <13 84 85>, Trip: <16 63 65>, Trip: <20 21 29>, Trip: <28 45 53>, Trip: <33 56 65>, Trip: <36 77 85>, Trip: <39 80 89>, Trip: <48 55 73>, Trip: <65 72 97>]\n"
     ]
    }
   ],
   "source": [
    "# We are looking to generate lists like this one, from Wikipedia:\n",
    "Wikipedia100 = [Trip( 3, 4, 5), Trip( 5,12,13), Trip( 7,24,25),\n",
    "                Trip( 8,15,17), Trip( 9,40,41), Trip(11,60,61),\n",
    "                Trip(12,35,37), Trip(13,84,85), Trip(16,63,65),\n",
    "                Trip(20,21,29), Trip(28,45,53), Trip(33,56,65),\n",
    "                Trip(36,77,85), Trip(39,80,89), Trip(48,55,73),\n",
    "                Trip(65,72,97)\n",
    "                ]\n",
    "\n",
    "print(Wikipedia100)"
   ]
  },
  {
   "cell_type": "code",
   "execution_count": 259,
   "metadata": {},
   "outputs": [
    {
     "name": "stdout",
     "output_type": "stream",
     "text": [
      "Good Trips\n"
     ]
    }
   ],
   "source": [
    "# Here's a direct enumerate-and-filter specification, parametrized by m, the maximum side length.\n",
    "m = 100\n",
    "trips1 = [Trip(a,b,int(c))\n",
    "          for a in range(1,m+1)\n",
    "          for b in range(1,m+1)\n",
    "          for c in range(1,m+1)\n",
    "          if a < b < c\n",
    "          and a**2 + b**2 == c**2\n",
    "          and coprime(a,b)\n",
    "       ]\n",
    "\n",
    "def check_trips (trips):\n",
    "    assert(all ([w == t for w,t in zip (Wikipedia100, trips)])), \"Trips don't match: \" + print (trips)\n",
    "    print(\"Good Trips\")\n",
    "\n",
    "check_trips(trips1)"
   ]
  },
  {
   "cell_type": "code",
   "execution_count": 239,
   "metadata": {},
   "outputs": [
    {
     "name": "stdout",
     "output_type": "stream",
     "text": [
      "Good Trips\n"
     ]
    }
   ],
   "source": [
    "# The expression: for a in range(1,m+1) for b in range(1,m+1) for c in range(1,m+1) is like a triply nested loop.\n",
    "# In this case, the order of the generators is irrelevant (and the compiler might leverage this), but generally\n",
    "# the order matters as we'll see. We also specified three filters: an ordering of a, b, and c, the Pythagorean\n",
    "# equality, and coprime (a,b), which ensures that the triple is primitive.\n",
    "#\n",
    "# We can fold the first filter, a < b < c, into the lower and upper bounds of the generators.\n",
    "trips2 = [Trip(a,b,int(c))\n",
    "          for a in range(1,m-1)\n",
    "          for b in range(a+1,m)\n",
    "          for c in range(b+1,m+1)\n",
    "          if a**2 + b**2 == c**2\n",
    "          and coprime(a,b)\n",
    "       ]\n",
    "check_trips(trips2)"
   ]
  },
  {
   "cell_type": "code",
   "execution_count": 247,
   "metadata": {},
   "outputs": [
    {
     "name": "stdout",
     "output_type": "stream",
     "text": [
      "Good Trips\n"
     ]
    }
   ],
   "source": [
    "# This sort of transformation is known as filter promotion. Rather than generate and then filter, we can\n",
    "# avoid generating some values in the first place. We can imagine that that a compiler, a run time\n",
    "# system, or in Fortress' case, a clever library, could accomplish simple filter promotion. Now c\n",
    "# generation must come after b generation which in turn must come after a generation as a is used in\n",
    "# the bounds of b generation which in turn is used in the bounds of c generation --- the generators can\n",
    "# no longer be freely interchanged --- c generation is \"more inner\" than b generation which in turn is\n",
    "# \"more inner\" than a generation.\n",
    "#\n",
    "# Shouldn't this sort of transformation be the programmer's responsibility? Perhaps, but sometime in\n",
    "# mathematics we specify sets this way, and it can be very concise and easy to understand.\n",
    "#\n",
    "# What about the next filter, the Pythagorean equality? Once a and b are selected, this filter tells us\n",
    "# there is at most one one possible value to consider for c, we have a candidate if c is an integer. First\n",
    "# rewrite the filter c = SQRT(a**2 + b**2). If that produces an integer we have a candidate; otherwise,\n",
    "# we're not interested.\n",
    "#\n",
    "# There's also a bit of housekeeping, as c must satisfy the generator bounds, ie, b+1 <= c <= m. The\n",
    "# lower bound comes for free, but we have to check the upper bound explicitly with a filter: c <= m.\n",
    "\n",
    "trips3 = [Trip(a,b,int(c))\n",
    "          for a in range(1,m-1)\n",
    "          for b in range(a+1,m)\n",
    "          for c in [math.sqrt(a**2 + b**2)]\n",
    "          if c == int(c) and c <= m\n",
    "          and coprime(a,b)\n",
    "         ]\n",
    "check_trips(trips3)"
   ]
  },
  {
   "cell_type": "code",
   "execution_count": 248,
   "metadata": {},
   "outputs": [
    {
     "name": "stdout",
     "output_type": "stream",
     "text": [
      "Good Trips\n"
     ]
    }
   ],
   "source": [
    "# Can we promote the filter c <= m? It can be absorbed into b generation. Since c**2 = a**2 + b**2 and\n",
    "# c <= m, a**2 + b**2 <= m**2, giving us b <= SQRT(m**2 - a**2). This only produces values at most m-1.\n",
    "\n",
    "trips4 = [Trip(a,b,int(c))\n",
    "          for a in range(1,m-1)\n",
    "          for b in range(a+1,int(math.sqrt(m**2 - a**2)))\n",
    "          for c in [math.sqrt(a**2 + b**2)]\n",
    "          if c == int(c) and c <= m\n",
    "          and coprime(a,b)\n",
    "         ]\n",
    "check_trips(trips4)"
   ]
  },
  {
   "cell_type": "code",
   "execution_count": 249,
   "metadata": {},
   "outputs": [
    {
     "name": "stdout",
     "output_type": "stream",
     "text": [
      "Good Trips\n"
     ]
    }
   ],
   "source": [
    "# It would be pretty impressive if a library or compiler could automatically do the filter promotion we've\n",
    "# done by hand:\n",
    "#  1. Fold a < b < c into b and c generation. This is the easiest one.\n",
    "#  2. Calculate c rather than generate and filter. This involves quadratic algebraic manipulation.\n",
    "#  3. Fold c < m into b generation (upper bound): again, algebraic manipulation.\n",
    "#\n",
    "# It's tricky, but all of the preceding and the following could conceivably be produced automatically by a\n",
    "# clever enough system, perhaps an MS project, or an undergrad capstone project for a very clever undergrad.\n",
    "# Just for fun, let's pull common divisibility by two out of the coprime filter.\n",
    "\n",
    "trips5 = [Trip(a,b,int(c))\n",
    "          for a in range(1,m-1)\n",
    "          for b in range(a+1,int(math.sqrt(m**2 - a**2)))\n",
    "          for c in [math.sqrt(a**2 + b**2)]\n",
    "          if c == int(c) and c <= m\n",
    "          and not (even(a) and even(b))\n",
    "          and coprime(a,b)\n",
    "         ]\n",
    "check_trips(trips5)"
   ]
  },
  {
   "cell_type": "code",
   "execution_count": 250,
   "metadata": {},
   "outputs": [
    {
     "name": "stdout",
     "output_type": "stream",
     "text": [
      "Good Trips\n"
     ]
    }
   ],
   "source": [
    "# Then fold that into b generation using striding.\n",
    "\n",
    "trips6 = [Trip(a,b,int(c))\n",
    "          for a in range(1,m-1)\n",
    "          for b in range(a+1,int(math.sqrt(m**2 - a**2)),2 if even(a) else 1)\n",
    "          for c in [math.sqrt(a**2 + b**2)]\n",
    "          if c == int(c) and c <= m\n",
    "          and not (even(a) and even(b))\n",
    "          and coprime(a,b)\n",
    "        ]\n",
    "check_trips(trips6)"
   ]
  },
  {
   "cell_type": "code",
   "execution_count": 251,
   "metadata": {},
   "outputs": [
    {
     "name": "stdout",
     "output_type": "stream",
     "text": [
      "Good Trips\n"
     ]
    }
   ],
   "source": [
    "# These last two steps could conceivably be done automagically, but that would take a really clever researcher.\n",
    "# Is there more fun to be had? It turns out that exactly one of a and b are even, but proving that is\n",
    "# reasonably tricky. However, given that fact, we can write the stronger guard (even a) XOR (even b),\n",
    "# or, we could fold that clever fact into simplified striding in b generation.\n",
    "\n",
    "trips7 = [Trip(a,b,int(c))\n",
    "          for a in range(1,m-1)\n",
    "          for b in range(a+1,int(math.sqrt(m**2 - a**2)),2)\n",
    "          for c in [math.sqrt(a**2 + b**2)]\n",
    "          if c == int(c) and c <= m\n",
    "          and coprime(a,b)\n",
    "        ]\n",
    "check_trips(trips7)"
   ]
  },
  {
   "cell_type": "code",
   "execution_count": 252,
   "metadata": {},
   "outputs": [
    {
     "name": "stdout",
     "output_type": "stream",
     "text": [
      "Good Trips\n"
     ]
    }
   ],
   "source": [
    "# And, it also turns out that the smallest leg in a triple is 3.\n",
    "\n",
    "trips8 = [Trip(a,b,int(c))\n",
    "          for a in range(3,m-1)\n",
    "          for b in range(a+1,int(math.sqrt(m**2 - a**2)),2)\n",
    "          for c in [math.sqrt(a**2 + b**2)]\n",
    "          if c == int(c) and c <= m\n",
    "          and coprime(a,b)\n",
    "        ]\n",
    "check_trips(trips8)"
   ]
  },
  {
   "cell_type": "code",
   "execution_count": 246,
   "metadata": {},
   "outputs": [],
   "source": [
    "# Performing these last three transformations automatically would also be impressive research.\n",
    "#  1. & 2. Turn common divisibility by 2 into b striding (1: complex striding, and 2: simple striding)\n",
    "#  3. Start a with 3. Good luck with this one. :-)\n"
   ]
  },
  {
   "cell_type": "code",
   "execution_count": null,
   "metadata": {},
   "outputs": [],
   "source": []
  }
 ],
 "metadata": {
  "kernelspec": {
   "display_name": "Python 3",
   "language": "python",
   "name": "python3"
  },
  "language_info": {
   "codemirror_mode": {
    "name": "ipython",
    "version": 3
   },
   "file_extension": ".py",
   "mimetype": "text/x-python",
   "name": "python",
   "nbconvert_exporter": "python",
   "pygments_lexer": "ipython3",
   "version": "3.7.3"
  }
 },
 "nbformat": 4,
 "nbformat_minor": 2
}
